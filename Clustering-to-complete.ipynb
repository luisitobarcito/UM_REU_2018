{
 "cells": [
  {
   "cell_type": "markdown",
   "metadata": {},
   "source": [
    "# Introduction to Clustering\n",
    "\n",
    "The goal of clustering is to partition the input data into subsets.\n",
    "\n",
    "For this exercise, we will use the same iris data we used in the classification module."
   ]
  },
  {
   "cell_type": "code",
   "execution_count": null,
   "metadata": {},
   "outputs": [],
   "source": [
    "%matplotlib inline\n",
    "\n",
    "import numpy as np\n",
    "import matplotlib.pyplot as plt\n",
    "from matplotlib.colors import ListedColormap\n",
    "from sklearn import datasets\n",
    "\n",
    "# load the iris data set\n",
    "iris = datasets.load_iris()\n",
    "# extract input output pairs\n",
    "X = iris.data\n",
    "Y = iris.target\n",
    "cmap_data = ListedColormap(['#FF0000', '#00FF00', '#0000FF'])\n",
    "\n",
    "def euclideanDistance(x1, x2):\n",
    "    d2 = np.sum((x1 - x2)**2, axis=1)\n",
    "    return np.sqrt(d2)"
   ]
  },
  {
   "cell_type": "markdown",
   "metadata": {},
   "source": [
    "## k-means clustering\n",
    "The idea of the k-means clustering is to find k points that will partition the data such that the overall distance between any of the training points to the nearest point in the set of k points is minimized.\n",
    "An iterative procedure that tries to minimize this objective is the following:\n",
    "1. start with a random set of k different points that cover the space where data lies.\n",
    "2. for each of the k points find the set of points in the training data that are closer to them\n",
    "3. Update the position of each of the k points by computing the mean of the set of points that where assigned in the previous step.\n"
   ]
  },
  {
   "cell_type": "markdown",
   "metadata": {},
   "source": [
    "## Simple implementation of k-means\n"
   ]
  },
  {
   "cell_type": "code",
   "execution_count": null,
   "metadata": {},
   "outputs": [],
   "source": [
    "np.random.permutation(X[:])[:3]"
   ]
  },
  {
   "cell_type": "code",
   "execution_count": null,
   "metadata": {},
   "outputs": [],
   "source": [
    "def kMeansClustering(X, k, dist=euclideanDistance, max_iter=300):\n",
    "    n_dims = X.shape[1]\n",
    "    # select k points of the training set as seeds\n",
    "    C = np.random.permutation(X[:])[:k]\n",
    "    def partition(X, C):\n",
    "        Y = np.zeros(X.shape[0], dtype=np.int)\n",
    "        for i, Xi in enumerate(X):\n",
    "            NNidx = np.argmin(dist(Xi, C))\n",
    "            Y[i] = NNidx\n",
    "        return Y\n",
    "    iTr = 0\n",
    "    clusters = partition(X,C)\n",
    "    while iTr < max_iter and iTr > 0:\n",
    "        clusters_old = clusters\n",
    "        for iK in range(k):\n",
    "            C[iK] = np.mean(X[clusters_old == iK])\n",
    "        clusters = partition(X, C)\n",
    "        if clusters_old == clusters:\n",
    "            break\n",
    "        iTr += 1\n",
    "    return clusters\n",
    "    \n"
   ]
  },
  {
   "cell_type": "code",
   "execution_count": null,
   "metadata": {},
   "outputs": [],
   "source": [
    "Y_pred = kMeansClustering(X,3)\n",
    "print(Y_pred)"
   ]
  },
  {
   "cell_type": "code",
   "execution_count": null,
   "metadata": {},
   "outputs": [],
   "source": [
    "plt.scatter(X[:,0], X[:,1], c=Y_pred, cmap=cmap_data, s=20)\n",
    "plt.show()"
   ]
  },
  {
   "cell_type": "markdown",
   "metadata": {},
   "source": [
    "## Exercise 1\n",
    "Compare the simple implementation with the sklearn function sklearn.cluster.kMeans()."
   ]
  },
  {
   "cell_type": "code",
   "execution_count": null,
   "metadata": {},
   "outputs": [],
   "source": [
    "## Write some lines of code here"
   ]
  },
  {
   "cell_type": "markdown",
   "metadata": {},
   "source": [
    "## Exercise 2\n",
    "Improve our k-means implementation by geting the best of n_runs.\n",
    "For this part, we need to compute the value of the objective for a given clustering and keep the best form n_runs."
   ]
  },
  {
   "cell_type": "code",
   "execution_count": null,
   "metadata": {},
   "outputs": [],
   "source": [
    "## Write some lines of code here"
   ]
  }
 ],
 "metadata": {
  "kernelspec": {
   "display_name": "Python 2",
   "language": "python",
   "name": "python2"
  },
  "language_info": {
   "codemirror_mode": {
    "name": "ipython",
    "version": 2
   },
   "file_extension": ".py",
   "mimetype": "text/x-python",
   "name": "python",
   "nbconvert_exporter": "python",
   "pygments_lexer": "ipython2",
   "version": "2.7.12"
  }
 },
 "nbformat": 4,
 "nbformat_minor": 2
}
