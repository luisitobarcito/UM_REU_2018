{
 "cells": [
  {
   "cell_type": "markdown",
   "metadata": {},
   "source": [
    "# Introduction to Dimensionality reduction\n",
    "\n",
    "The goal of dimensionality reduction is to find a compact representaion of the data, from which, data can be reconstructed. By a compact representation, we mean a transformation from the input space $\\mathbb{R}^d$ to $\\mathbb{R}^p$, where $p << d$  "
   ]
  },
  {
   "cell_type": "markdown",
   "metadata": {},
   "source": [
    "## Principal component analysis (PCA)\n",
    "\n",
    "PCA is a linear dimensionality reduction and can be derived from different yet equivalent perspectives.\n",
    "* Statisitical: Transformation that captures most of the spread fo the data in terms of variance\n",
    "* Geometric: Projection to a subspace that minimizes the Euclidean distances between the original points and their projected counterparts."
   ]
  },
  {
   "cell_type": "code",
   "execution_count": null,
   "metadata": {},
   "outputs": [],
   "source": [
    "%matplotlib inline\n",
    "\n",
    "import numpy as np\n",
    "import matplotlib.pyplot as plt\n",
    "from matplotlib.colors import ListedColormap\n",
    "from sklearn import datasets\n",
    "\n",
    "# load the iris data set\n",
    "iris = datasets.load_iris()\n",
    "# extract input output pairs\n",
    "X = iris.data\n",
    "Y = iris.target\n",
    "cmap_data = ListedColormap(['#FF0000', '#00FF00', '#0000FF'])\n",
    "\n",
    "def euclideanDistance(x1, x2):\n",
    "    d2 = np.sum((x1 - x2)**2, axis=1)\n",
    "    return np.sqrt(d2)\n"
   ]
  },
  {
   "cell_type": "code",
   "execution_count": null,
   "metadata": {},
   "outputs": [],
   "source": [
    "## center the data \n",
    "X_mean = np.mean(X, axis=0, keepdims=True)\n",
    "X_cent = X - X_mean\n",
    "X_cent.shape"
   ]
  },
  {
   "cell_type": "markdown",
   "metadata": {},
   "source": [
    "## Compute principal components (statisitcal view)\n"
   ]
  },
  {
   "cell_type": "code",
   "execution_count": null,
   "metadata": {},
   "outputs": [],
   "source": [
    "X_cov = np.cov(X_cent.transpose())\n",
    "\n",
    "from numpy.linalg import eigh\n",
    "eigval, eigvec = eigh(X_cov)\n"
   ]
  },
  {
   "cell_type": "markdown",
   "metadata": {},
   "source": [
    "## Exercise 1\n",
    "Compute the first 2 principal components.\n",
    "\n",
    "Hint: use the function numpy.dot() to multiply matrices."
   ]
  },
  {
   "cell_type": "code",
   "execution_count": null,
   "metadata": {},
   "outputs": [],
   "source": [
    "## Write some lines of code here"
   ]
  },
  {
   "cell_type": "markdown",
   "metadata": {},
   "source": [
    "## Exercise 2\n",
    "Compute the principal components after z-scoring the original dimensions. In other words, normalize eachof the columns of X_cent\n",
    "to have unit variance and compute the eigendecomposition of the new covariance matrix. \n",
    "\n",
    "Hint: verify the new covariance has ones in the main diagonal.\n"
   ]
  },
  {
   "cell_type": "code",
   "execution_count": null,
   "metadata": {},
   "outputs": [],
   "source": [
    "## Write some lines of code here"
   ]
  },
  {
   "cell_type": "code",
   "execution_count": null,
   "metadata": {},
   "outputs": [],
   "source": [
    "eigval, eigvec = eigh(X_cov)\n",
    "Z = np.dot(X_norm, eigvec[:,-1:-3:-1])\n",
    "print(Z.shape)\n",
    "plt.scatter(Z[:,0], Z[:,1], c=Y, cmap=cmap_data, s=20)\n",
    "plt.show()"
   ]
  },
  {
   "cell_type": "code",
   "execution_count": null,
   "metadata": {},
   "outputs": [],
   "source": []
  }
 ],
 "metadata": {
  "kernelspec": {
   "display_name": "Python 2",
   "language": "python",
   "name": "python2"
  },
  "language_info": {
   "codemirror_mode": {
    "name": "ipython",
    "version": 2
   },
   "file_extension": ".py",
   "mimetype": "text/x-python",
   "name": "python",
   "nbconvert_exporter": "python",
   "pygments_lexer": "ipython2",
   "version": "2.7.12"
  }
 },
 "nbformat": 4,
 "nbformat_minor": 2
}
